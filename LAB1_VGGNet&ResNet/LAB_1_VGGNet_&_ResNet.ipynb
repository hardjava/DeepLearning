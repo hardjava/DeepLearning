{
  "cells": [
    {
      "cell_type": "code",
      "execution_count": 1,
      "metadata": {
        "id": "3QJpzZKVAn6r"
      },
      "outputs": [],
      "source": [
        "import torch\n",
        "import torch.nn as nn\n",
        "import torch.optim as optim\n",
        "import torch.nn.functional as F\n",
        "import torchvision.transforms as transforms\n",
        "import torchvision.datasets as dsets\n",
        "import torchvision\n",
        "import time\n",
        "import os"
      ]
    },
    {
      "cell_type": "markdown",
      "metadata": {
        "id": "IHWqOeX0DtOf"
      },
      "source": [
        "### 1. VGGNet with PyTorch"
      ]
    },
    {
      "cell_type": "markdown",
      "metadata": {
        "id": "IWeEYLiSj9Zx"
      },
      "source": [
        "### Implementing VGGNet\n",
        "\n",
        "> 1. **Dataset**\n",
        ">> - Images from the first three categories in CIFAR-10. (Due to the computational constraints.)  <br>\n",
        "     Three categories : plane, car, bird  /  The number of training images : 15,000   /  The number of test images : 3,000\n",
        ">> - Augmented with flipping and random cropping.\n",
        ">\n",
        "> 2. **Network architecture**\n",
        ">> - Type-D configuration in the paper (+ 3-way classifier after convolutional layers).\n",
        ">> - ReLU activation.\n",
        ">> - No dropout for simplicity.\n",
        ">> - We will apply **batch-normalization** after every convolution which is not used in the paper (otherwise, hard to optimize).\n",
        ">> - **Conv2d -> BatchNorm2d -> ReLU**\n",
        ">>\n",
        ">> <table><tr>\n",
        ">> <td> <img src=\"https://docs.google.com/uc?export=download&id=1OiTmrplD9gOrEJizLChyLp31R0QtoeHv\" alt=\"no_image\" style=\"width: 550px;\"/> </td>\n",
        ">> <td> <img src=\"https://docs.google.com/uc?export=download&id=1bBvAOdJeskMMyOrZtBCCnkEEgq9PgjX9\" alt=\"no_image\" style=\"width: 250px;\"/> </td>\n",
        ">> </tr></table>\n",
        ">>\n",
        ">> <font size=\"0.5\"> Figure from <br>\n",
        ">> [1] https://www.quora.com/What-is-the-VGG-neural-network </font>\n",
        ">\n",
        "> 3. **Loss function**\n",
        ">> - Cross-entropy loss between outputs & ground-truths. <br>\n",
        "     Note that `nn.CrossEntroyLoss` takes logits before softmax as network outputs and scalar index (not one-hot vector) as ground-truths.<br>\n",
        "     See https://pytorch.org/docs/stable/nn.html#crossentropyloss for details.\n",
        ">\n",
        "> 4. **Training**\n",
        ">> - Default weight initialization for simplicity.\n",
        ">> - SGD optimizer with `learning rate = 1e-2`, `momentum = 0.9`, and `weight_decay = 5e-4`.\n",
        ">> - 20 epochs without learning rate scheduling.\n",
        ">\n",
        "> 5. **Evaluation metric**\n",
        ">> - Classification accuracy (i.e., the percentage of correct predictions).\n",
        ">\n",
        ">"
      ]
    },
    {
      "cell_type": "code",
      "execution_count": 2,
      "metadata": {
        "colab": {
          "base_uri": "https://localhost:8080/"
        },
        "id": "W9jfQg2frQ7w",
        "outputId": "1657d2a3-73e2-4bad-a5d5-4d416f2c016b"
      },
      "outputs": [
        {
          "name": "stdout",
          "output_type": "stream",
          "text": [
            "STEP 1: LOADING DATASET\n",
            "Files already downloaded and verified\n"
          ]
        }
      ],
      "source": [
        "print('STEP 1: LOADING DATASET')\n",
        "# CIFAR-10 dataset을 Load & Transform\n",
        "# torchvision.transforms 를 이용하여 전처리\n",
        "transform_train = transforms.Compose([\n",
        "    transforms.RandomCrop(32, padding=4), # 32 * 32 크기로 무작위로 자름 (주변에 padding 4 추가)\n",
        "    transforms.RandomHorizontalFlip(), # 무작위로 좌우 반전\n",
        "    transforms.ToTensor(), # Tensor로 변환 (0 ~ 1 범위로 정규화 됨)\n",
        "    transforms.Normalize((0.4194, 0.4822, 0.4465), (0.2023, 0.1994, 0.2010)), # 정규화 (평균 및 표준편차를 기준으로 정규화)\n",
        "])\n",
        "\n",
        "transform_test = transforms.Compose([\n",
        "    transforms.ToTensor(), # Test data는 변형 없이 원본 이미지 그대로 사용해야 일관된 평가 가능\n",
        "    transforms.Normalize((0.4194, 0.4822, 0.4465), (0.2023, 0.1994, 0.2010)), # 정규화만 적용 (데이터 증강 x)\n",
        "])\n",
        "\n",
        "train_dataset = dsets.CIFAR10(root='./data/CIFAR10/',\n",
        "                              train=True,\n",
        "                              transform=transform_train,\n",
        "                              download=True)\n",
        "\n",
        "test_dataset = dsets.CIFAR10(root='./data/CIFAR10/',\n",
        "                             train=False,\n",
        "                             transform=transform_test)"
      ]
    },
    {
      "cell_type": "code",
      "execution_count": 3,
      "metadata": {
        "id": "8YTOGnQwssaw"
      },
      "outputs": [],
      "source": [
        "# CIFAR-10 dataset에서 레이블이 0, 1, 2 인 데이터만 선택하여 축소된 dataset을 생성\n",
        "reduced_train_dataset = []\n",
        "for images, labels in train_dataset:\n",
        "  if labels < 3:\n",
        "    reduced_train_dataset.append((images, labels))\n",
        "\n",
        "reduced_test_dataset = []\n",
        "for images, labels in test_dataset:\n",
        "  if labels < 3:\n",
        "    reduced_test_dataset.append((images, labels))"
      ]
    },
    {
      "cell_type": "code",
      "execution_count": 4,
      "metadata": {
        "colab": {
          "base_uri": "https://localhost:8080/"
        },
        "id": "pNkO5PryuLP0",
        "outputId": "b8969cbf-d81e-4fe6-e204-17bea1f44b50"
      },
      "outputs": [
        {
          "name": "stdout",
          "output_type": "stream",
          "text": [
            "The number of training images:  15000\n",
            "The number of test images:  3000\n"
          ]
        }
      ],
      "source": [
        "print(\"The number of training images: \", len(reduced_train_dataset))\n",
        "print(\"The number of test images: \", len(reduced_test_dataset))"
      ]
    },
    {
      "cell_type": "code",
      "execution_count": 5,
      "metadata": {
        "colab": {
          "base_uri": "https://localhost:8080/"
        },
        "id": "qGkpzkquujGC",
        "outputId": "95b8b7ec-2636-4bfd-ed89-84aeedac6ff7"
      },
      "outputs": [
        {
          "name": "stdout",
          "output_type": "stream",
          "text": [
            "STEP 2: MAKING DATASET ITERABLE\n"
          ]
        }
      ],
      "source": [
        "print(\"STEP 2: MAKING DATASET ITERABLE\")\n",
        "# CIFAR-10 dataset을 batch 단위로 load 할 수 있도록 DataLoader를 생성\n",
        "# train_loader: train data를 128개씩 랜덤 배치로 로드\n",
        "train_loader = torch.utils.data.DataLoader(dataset=reduced_train_dataset,\n",
        "                                           batch_size=128,\n",
        "                                           shuffle=True) # 모델이 특정 순서에 과적합되지 않도록 데이터 순서를 무작위로 만듦\n",
        "# test_loader = test data를 100개씩 순서를 유지하며 로드\n",
        "test_loader = torch.utils.data.DataLoader(dataset=reduced_test_dataset,\n",
        "                                          batch_size=100,\n",
        "                                          shuffle=False) # 테스트 데이터는 항상 같은 순서로 평가해야 하므로 섞지 않음\n",
        "# CIFAR-10 은 10개의 클래스로 구성된 데이터 셋\n",
        "# 각 인덱스에 해당하는 클래스 이름을 튜플로 저장\n",
        "class_names = ('plane', 'car', 'bird', 'cat', 'deer', 'dog', 'frog', 'horse', 'ship', 'truck')"
      ]
    },
    {
      "cell_type": "markdown",
      "metadata": {
        "id": "G23xdnTYwwzh"
      },
      "source": [
        "### Visualize a few images"
      ]
    },
    {
      "cell_type": "code",
      "execution_count": 6,
      "metadata": {
        "id": "dqAMP24Xwwik"
      },
      "outputs": [],
      "source": [
        "import matplotlib.pyplot as plt\n",
        "%matplotlib inline\n",
        "import numpy as np"
      ]
    },
    {
      "cell_type": "code",
      "execution_count": 7,
      "metadata": {
        "id": "bTcl01IywrzD"
      },
      "outputs": [],
      "source": [
        "def imshow(inp, title=None):\n",
        "  inp = inp.numpy().transpose((1, 2, 0)) # PyTorch Tensor -> Numpy 배열로 변환\n",
        "  # PyTorch 이미지 Tensor는 (채널, 높이, 너비) 순서이므로 Matplotlib에서 올바르게 표시되도록 (높이, 너비, 채널) 로 변환\n",
        "  mean = np.array([0.4194, 0.4822, 0.4465]) # 이미지 정규화를 적용했으므로 이를 다시 원래 값으로 복원\n",
        "  std = np.array([0.2023, 0.1994, 0.2010])\n",
        "  inp = std * inp + mean\n",
        "  inp = np.clip(inp, 0, 1) # 이미지 픽셀 값이 0 ~ 1 범위를 벗어나지 않도록 조정\n",
        "  plt.imshow(inp)\n",
        "  if title is not None:\n",
        "    plt.title(title)\n",
        "  plt.pause(0.001)"
      ]
    },
    {
      "cell_type": "code",
      "execution_count": 8,
      "metadata": {
        "colab": {
          "base_uri": "https://localhost:8080/",
          "height": 212
        },
        "id": "tcXPBdt2xX1H",
        "outputId": "9a8dff59-62de-40bc-d338-afdf2d6b226f"
      },
      "outputs": [
        {
          "data": {
            "image/png": "[encoded data removed]",
            "text/plain": [
              "<Figure size 640x480 with 1 Axes>"
            ]
          },
          "metadata": {},
          "output_type": "display_data"
        }
      ],
      "source": [
        "train_loader_sample = torch.utils.data.DataLoader(dataset=reduced_train_dataset,\n",
        "                                                  batch_size=4,\n",
        "                                                  shuffle=True)\n",
        "\n",
        "inputs, classes = next(iter(train_loader_sample))\n",
        "# inputs: 배치 내 4개의 이미지 Tensor\n",
        "# classes: 각 이미지에 대한 클래스 라벨(숫자)\n",
        "out = torchvision.utils.make_grid(inputs) # 4개의 이미지를 한 장의 이미지로 합쳐서 그리드 형태로 표시, 이미지 간 패딩을 추가하여 하나의 큰 이미지로 정렬\n",
        "imshow(out, title=[class_names[x] for x in classes])"
      ]
    },
    {
      "cell_type": "markdown",
      "metadata": {
        "id": "9PPAh_2HzoI7"
      },
      "source": [
        "### VGG 16"
      ]
    },
    {
      "cell_type": "code",
      "execution_count": 12,
      "metadata": {
        "colab": {
          "base_uri": "https://localhost:8080/"
        },
        "id": "UidGw51Zxxw8",
        "outputId": "5ef365e9-eb57-4b56-b174-bd33505ebfd5"
      },
      "outputs": [
        {
          "name": "stdout",
          "output_type": "stream",
          "text": [
            "STEP 3: CREATE MODEL CLASS (VGG16)\n"
          ]
        }
      ],
      "source": [
        "print(\"STEP 3: CREATE MODEL CLASS (VGG16)\")\n",
        "\n",
        "cfg = [64, 64, 'MP', 128, 128, 'MP', 256, 256, 256, 'MP', 512, 512, 512, 'MP', 512, 512, 512, 'MP'] # VGG16의 계층 구조 정의\n",
        "\n",
        "class VGG(nn.Module):\n",
        "  def __init__(self, in_channels=3):\n",
        "    super(VGG, self).__init__()\n",
        "    self.VGG16 = self._make_layers(cfg, in_channels) # VGG16 모델의 CNN 부분을 구성\n",
        "    self.classifier = nn.Linear(512, 3) # Fully Connected Layer (출력 크기: num_classes=3)\n",
        "\n",
        "  def forward(self, x): # Forward Propagation\n",
        "    out = self.VGG16(x) # CNN 계층을 통과\n",
        "    out = out.view(out.size(0), -1) # Feature Map을 1D 벡터로 펼침 (Flatten)\n",
        "    out = self.classifier(out) # Fully Connected Layer 통과 후 최종 예측값 반환\n",
        "    # FC Layer를 거쳐 3개의 클래스에 대한 예측값(logit)을 출력\n",
        "    return out\n",
        "\n",
        "  def _make_layers(self, cfg, in_channels):\n",
        "    layers = []\n",
        "\n",
        "    for x in cfg:\n",
        "      if x == 'MP':\n",
        "        layers.append(nn.MaxPool2d(kernel_size=2))\n",
        "      else:\n",
        "        layers.append(nn.Conv2d(in_channels=in_channels, out_channels=x, kernel_size=3, padding=1))\n",
        "        layers.append(nn.BatchNorm2d(x))\n",
        "        layers.append(nn.ReLU())\n",
        "        in_channels=x\n",
        "\n",
        "    return nn.Sequential(*layers) # 모든 layer 를 Sequential 로 묶어서 하나의 모듈로 반환 (CNN 모델의 여러 계층을 하나의 연속된 블록으로 정의하기 위함)\n",
        "    # 각 계층이 자동으로 순서대로 실행됨\n",
        "\n",
        "# Feature map 의 개수는 channel 수와 같다\n",
        "# Feature map = CNN이 kernel을 사용하여 이미지의 특징을 추출한 결과 (각 필터는 서로 다른 특징)"
      ]
    },
    {
      "cell_type": "code",
      "execution_count": 13,
      "metadata": {
        "colab": {
          "base_uri": "https://localhost:8080/"
        },
        "id": "80Tp7ARhzvVo",
        "outputId": "a6bcd4cb-644f-4aa9-d4ef-7791a218e5ce"
      },
      "outputs": [
        {
          "name": "stdout",
          "output_type": "stream",
          "text": [
            "STEP 4: INSTANTIATE MODEL CLASS\n",
            "The number of parameters :  14724675\n"
          ]
        },
        {
          "data": {
            "text/plain": [
              "VGG(\n",
              "  (VGG16): Sequential(\n",
              "    (0): Conv2d(3, 64, kernel_size=(3, 3), stride=(1, 1), padding=(1, 1))\n",
              "    (1): BatchNorm2d(64, eps=1e-05, momentum=0.1, affine=True, track_running_stats=True)\n",
              "    (2): ReLU()\n",
              "    (3): Conv2d(64, 64, kernel_size=(3, 3), stride=(1, 1), padding=(1, 1))\n",
              "    (4): BatchNorm2d(64, eps=1e-05, momentum=0.1, affine=True, track_running_stats=True)\n",
              "    (5): ReLU()\n",
              "    (6): MaxPool2d(kernel_size=2, stride=2, padding=0, dilation=1, ceil_mode=False)\n",
              "    (7): Conv2d(64, 128, kernel_size=(3, 3), stride=(1, 1), padding=(1, 1))\n",
              "    (8): BatchNorm2d(128, eps=1e-05, momentum=0.1, affine=True, track_running_stats=True)\n",
              "    (9): ReLU()\n",
              "    (10): Conv2d(128, 128, kernel_size=(3, 3), stride=(1, 1), padding=(1, 1))\n",
              "    (11): BatchNorm2d(128, eps=1e-05, momentum=0.1, affine=True, track_running_stats=True)\n",
              "    (12): ReLU()\n",
              "    (13): MaxPool2d(kernel_size=2, stride=2, padding=0, dilation=1, ceil_mode=False)\n",
              "    (14): Conv2d(128, 256, kernel_size=(3, 3), stride=(1, 1), padding=(1, 1))\n",
              "    (15): BatchNorm2d(256, eps=1e-05, momentum=0.1, affine=True, track_running_stats=True)\n",
              "    (16): ReLU()\n",
              "    (17): Conv2d(256, 256, kernel_size=(3, 3), stride=(1, 1), padding=(1, 1))\n",
              "    (18): BatchNorm2d(256, eps=1e-05, momentum=0.1, affine=True, track_running_stats=True)\n",
              "    (19): ReLU()\n",
              "    (20): Conv2d(256, 256, kernel_size=(3, 3), stride=(1, 1), padding=(1, 1))\n",
              "    (21): BatchNorm2d(256, eps=1e-05, momentum=0.1, affine=True, track_running_stats=True)\n",
              "    (22): ReLU()\n",
              "    (23): MaxPool2d(kernel_size=2, stride=2, padding=0, dilation=1, ceil_mode=False)\n",
              "    (24): Conv2d(256, 512, kernel_size=(3, 3), stride=(1, 1), padding=(1, 1))\n",
              "    (25): BatchNorm2d(512, eps=1e-05, momentum=0.1, affine=True, track_running_stats=True)\n",
              "    (26): ReLU()\n",
              "    (27): Conv2d(512, 512, kernel_size=(3, 3), stride=(1, 1), padding=(1, 1))\n",
              "    (28): BatchNorm2d(512, eps=1e-05, momentum=0.1, affine=True, track_running_stats=True)\n",
              "    (29): ReLU()\n",
              "    (30): Conv2d(512, 512, kernel_size=(3, 3), stride=(1, 1), padding=(1, 1))\n",
              "    (31): BatchNorm2d(512, eps=1e-05, momentum=0.1, affine=True, track_running_stats=True)\n",
              "    (32): ReLU()\n",
              "    (33): MaxPool2d(kernel_size=2, stride=2, padding=0, dilation=1, ceil_mode=False)\n",
              "    (34): Conv2d(512, 512, kernel_size=(3, 3), stride=(1, 1), padding=(1, 1))\n",
              "    (35): BatchNorm2d(512, eps=1e-05, momentum=0.1, affine=True, track_running_stats=True)\n",
              "    (36): ReLU()\n",
              "    (37): Conv2d(512, 512, kernel_size=(3, 3), stride=(1, 1), padding=(1, 1))\n",
              "    (38): BatchNorm2d(512, eps=1e-05, momentum=0.1, affine=True, track_running_stats=True)\n",
              "    (39): ReLU()\n",
              "    (40): Conv2d(512, 512, kernel_size=(3, 3), stride=(1, 1), padding=(1, 1))\n",
              "    (41): BatchNorm2d(512, eps=1e-05, momentum=0.1, affine=True, track_running_stats=True)\n",
              "    (42): ReLU()\n",
              "    (43): MaxPool2d(kernel_size=2, stride=2, padding=0, dilation=1, ceil_mode=False)\n",
              "  )\n",
              "  (classifier): Linear(in_features=512, out_features=3, bias=True)\n",
              ")"
            ]
          },
          "execution_count": 13,
          "metadata": {},
          "output_type": "execute_result"
        }
      ],
      "source": [
        "print('STEP 4: INSTANTIATE MODEL CLASS')\n",
        "# 모델 인스턴스화 및 파라미터 개수 계산\n",
        "# VGG 모델을 생성하고, GPU 또는 CPU에 로드하는 과정\n",
        "model = VGG()\n",
        "num_total_params = sum(p.numel() for p in model.parameters()) # 모델 내부의 모든 가중치 및 편향 (weight & bias) 텐서를 가져옴\n",
        "# p.numel(): 해당 가중치 tensor의 총 파라미터 개수 반환\n",
        "print(\"The number of parameters : \", num_total_params)\n",
        "\n",
        "device = torch.device(\"cuda:0\" if torch.cuda.is_available() else \"cpu\")\n",
        "model.to(device)"
      ]
    },
    {
      "cell_type": "code",
      "execution_count": 14,
      "metadata": {
        "colab": {
          "base_uri": "https://localhost:8080/"
        },
        "id": "OTseZhsN8D51",
        "outputId": "4c2fe8ee-3341-4d46-d754-a6ad8db4e780"
      },
      "outputs": [
        {
          "name": "stdout",
          "output_type": "stream",
          "text": [
            "STEP 5: INSTANTIATE LOSS CLASS\n",
            "STEP 6: INSTANTIATE OPTIMIZER CLASS\n"
          ]
        }
      ],
      "source": [
        "print(\"STEP 5: INSTANTIATE LOSS CLASS\")\n",
        "criterion = nn.CrossEntropyLoss() # 분류 문제에서 사용되는 손실 함수, 다중 클래스 분류에서 자주 사용됨\n",
        "# 내부적으로 Softmax + Negative Log Likelihood Loss 를 포함\n",
        "# 모델이 예측값 (logits)와 실제 정답 (class index)를 비교하여 오차 계산\n",
        "print(\"STEP 6: INSTANTIATE OPTIMIZER CLASS\")\n",
        "\n",
        "learing_rate = 1e-2\n",
        "momentum = 0.9\n",
        "weight_decay = 5e-4\n",
        "\n",
        "optimizer = torch.optim.SGD(model.parameters(), lr=learing_rate, momentum = momentum, weight_decay = weight_decay)\n",
        "# 확률적 경사 하강법 (Stochastic Gradient Descent), 모델의 모든 파라미터 업데이트, weight_decay -> L2 정규화\n",
        "# SGD -> Loss Function 을 줄이기 위해 가중치를 업데이트하는 알고리즘. 기울기를 계산하여 반대 방향으로 이동"
      ]
    },
    {
      "cell_type": "markdown",
      "metadata": {
        "id": "57CVfJ8y_wMD"
      },
      "source": [
        "### Train the VGG 16 model and print test accuracy for every epochs"
      ]
    },
    {
      "cell_type": "code",
      "execution_count": 15,
      "metadata": {
        "colab": {
          "base_uri": "https://localhost:8080/"
        },
        "id": "oiIlDr3f-Ac9",
        "outputId": "657d7b52-6482-4a6a-80c7-76fb55a62b1d"
      },
      "outputs": [
        {
          "name": "stdout",
          "output_type": "stream",
          "text": [
            "STEP 7: TRAIN THE MODEL\n",
            "Epochs: 0. Loss: 0.6413388848304749. Accuracy: 82.5, Elapsed time: 7.634923219680786 sec\n",
            "Epochs: 1. Loss: 0.30767199397087097. Accuracy: 86.36666666666666, Elapsed time: 6.62676215171814 sec\n",
            "Epochs: 2. Loss: 0.7385739684104919. Accuracy: 87.56666666666666, Elapsed time: 6.6397929191589355 sec\n",
            "Epochs: 3. Loss: 0.20916219055652618. Accuracy: 90.1, Elapsed time: 6.6617913246154785 sec\n",
            "Epochs: 4. Loss: 0.2061227411031723. Accuracy: 89.56666666666666, Elapsed time: 6.666800022125244 sec\n",
            "Epochs: 5. Loss: 0.1492268145084381. Accuracy: 90.26666666666667, Elapsed time: 6.707655906677246 sec\n",
            "Epochs: 6. Loss: 0.07712143659591675. Accuracy: 91.76666666666667, Elapsed time: 6.74907922744751 sec\n",
            "Epochs: 7. Loss: 0.14920081198215485. Accuracy: 91.46666666666667, Elapsed time: 6.797206163406372 sec\n",
            "Epochs: 8. Loss: 0.04695770516991615. Accuracy: 89.33333333333333, Elapsed time: 6.841727018356323 sec\n",
            "Epochs: 9. Loss: 0.1836860030889511. Accuracy: 91.46666666666667, Elapsed time: 6.889595031738281 sec\n",
            "Epochs: 10. Loss: 0.10429233312606812. Accuracy: 92.13333333333334, Elapsed time: 6.96177339553833 sec\n",
            "Epochs: 11. Loss: 0.06132904067635536. Accuracy: 92.26666666666667, Elapsed time: 7.042141675949097 sec\n",
            "Epochs: 12. Loss: 0.0028629377484321594. Accuracy: 90.9, Elapsed time: 7.088004112243652 sec\n",
            "Epochs: 13. Loss: 0.029846666380763054. Accuracy: 91.56666666666666, Elapsed time: 7.159311056137085 sec\n",
            "Epochs: 14. Loss: 0.00648249639198184. Accuracy: 92.03333333333333, Elapsed time: 7.226328134536743 sec\n",
            "Epochs: 15. Loss: 0.051910046488046646. Accuracy: 91.76666666666667, Elapsed time: 7.286125421524048 sec\n",
            "Epochs: 16. Loss: 0.06726940721273422. Accuracy: 91.86666666666666, Elapsed time: 7.328394174575806 sec\n",
            "Epochs: 17. Loss: 0.003402576083317399. Accuracy: 92.4, Elapsed time: 7.341660737991333 sec\n",
            "Epochs: 18. Loss: 0.0008688797242939472. Accuracy: 91.46666666666667, Elapsed time: 7.32280421257019 sec\n",
            "Epochs: 19. Loss: 0.02199510484933853. Accuracy: 92.3, Elapsed time: 7.286590814590454 sec\n"
          ]
        }
      ],
      "source": [
        "# 모델 학습 및\n",
        "# 훈련 데이터: 전체 데이터를 batch_size=128로 쪼갬, 한 번의 배치에서 128개씩 모델이 학습. 총 391 번의 배치가 실행되면 1 에포크 종료\n",
        "# 테스트 데이터: 전체 데이터를 batch_size=100으로 쪼갬, 한 번의 배치에서 100개씩 모델이 예측 총 100 번의 배치가 실행되면 테스트 완료\n",
        "import time\n",
        "print('STEP 7: TRAIN THE MODEL')\n",
        "num_epochs = 20\n",
        "# 1 Epoch = 전체 데이터 한 바퀴\n",
        "for epoch in range(num_epochs): # 전체 데이터세을 num_epochs 만큼 반복 학습\n",
        "  start_time = time.time()\n",
        "  for i, (images, labels) in enumerate(train_loader): # 배치 단위로 학습, 한 번의 배치에서 128개씩 모델이 학습\n",
        "# Training Loop\n",
        "   images = images.to(device)\n",
        "   labels = labels.to(device)\n",
        "   optimizer.zero_grad() # 이전 기울기 초기화\n",
        "   outputs = model(images) # 순전파 실행\n",
        "   loss = criterion(outputs, labels) # 손실 계산\n",
        "   loss.backward() # 역전파를 수행하여 가중치에 대한 기울기 계산\n",
        "   optimizer.step() # 가중치 업데이트\n",
        "  correct = 0\n",
        "  total = 0\n",
        "  for images, labels in test_loader:\n",
        "# Test Loop\n",
        "    images = images.to(device)\n",
        "    labels = labels.to(device)\n",
        "    outputs = model(images) # 모델이 예측한 결과\n",
        "    _, predicted = torch.max(outputs.data, 1) # 예측값 중 가장 높은 확률을 가진 클래스 선택\n",
        "    total += labels.size(0)\n",
        "    correct += (predicted == labels).sum() # 맞춘 개수를 합산\n",
        "  end_time = time.time()\n",
        "  accuracy = 100 * correct.item() / total # 정확도 계산\n",
        "  elapsed_time = end_time - start_time\n",
        "  print('Epochs: {}. Loss: {}. Accuracy: {}, Elapsed time: {} sec'.format(epoch, loss.item(), accuracy, elapsed_time))"
      ]
    },
    {
      "cell_type": "code",
      "execution_count": 9,
      "metadata": {
        "colab": {
          "base_uri": "https://localhost:8080/",
          "height": 341
        },
        "id": "BBIihNbRBbCU",
        "outputId": "160749cb-3385-45dc-9ab6-e789c6c73318"
      },
      "outputs": [
        {
          "ename": "FileNotFoundError",
          "evalue": "[Errno 2] No such file or directory: '/content/m4.jpeg'",
          "output_type": "error",
          "traceback": [
            "\u001b[0;31m---------------------------------------------------------------------------\u001b[0m",
            "\u001b[0;31mFileNotFoundError\u001b[0m                         Traceback (most recent call last)",
            "\u001b[0;32m<ipython-input-9-6c58b7d86e11>\u001b[0m in \u001b[0;36m<cell line: 0>\u001b[0;34m()\u001b[0m\n\u001b[1;32m      1\u001b[0m \u001b[0;32mfrom\u001b[0m \u001b[0mPIL\u001b[0m \u001b[0;32mimport\u001b[0m \u001b[0mImage\u001b[0m\u001b[0;34m\u001b[0m\u001b[0;34m\u001b[0m\u001b[0m\n\u001b[0;32m----> 2\u001b[0;31m \u001b[0mimg\u001b[0m \u001b[0;34m=\u001b[0m \u001b[0mImage\u001b[0m\u001b[0;34m.\u001b[0m\u001b[0mopen\u001b[0m\u001b[0;34m(\u001b[0m\u001b[0;34m'/content/m4.jpeg'\u001b[0m\u001b[0;34m)\u001b[0m\u001b[0;34m\u001b[0m\u001b[0;34m\u001b[0m\u001b[0m\n\u001b[0m\u001b[1;32m      3\u001b[0m \u001b[0;34m\u001b[0m\u001b[0m\n\u001b[1;32m      4\u001b[0m t = transforms.Compose([\n\u001b[1;32m      5\u001b[0m     \u001b[0mtransforms\u001b[0m\u001b[0;34m.\u001b[0m\u001b[0mResize\u001b[0m\u001b[0;34m(\u001b[0m\u001b[0;34m(\u001b[0m\u001b[0;36m32\u001b[0m\u001b[0;34m,\u001b[0m \u001b[0;36m32\u001b[0m\u001b[0;34m)\u001b[0m\u001b[0;34m)\u001b[0m\u001b[0;34m,\u001b[0m  \u001b[0;31m# VGG 입력 크기 맞추기\u001b[0m\u001b[0;34m\u001b[0m\u001b[0;34m\u001b[0m\u001b[0m\n",
            "\u001b[0;32m/usr/local/lib/python3.11/dist-packages/PIL/Image.py\u001b[0m in \u001b[0;36mopen\u001b[0;34m(fp, mode, formats)\u001b[0m\n\u001b[1;32m   3463\u001b[0m \u001b[0;34m\u001b[0m\u001b[0m\n\u001b[1;32m   3464\u001b[0m     \u001b[0;32mif\u001b[0m \u001b[0mfilename\u001b[0m\u001b[0;34m:\u001b[0m\u001b[0;34m\u001b[0m\u001b[0;34m\u001b[0m\u001b[0m\n\u001b[0;32m-> 3465\u001b[0;31m         \u001b[0mfp\u001b[0m \u001b[0;34m=\u001b[0m \u001b[0mbuiltins\u001b[0m\u001b[0;34m.\u001b[0m\u001b[0mopen\u001b[0m\u001b[0;34m(\u001b[0m\u001b[0mfilename\u001b[0m\u001b[0;34m,\u001b[0m \u001b[0;34m\"rb\"\u001b[0m\u001b[0;34m)\u001b[0m\u001b[0;34m\u001b[0m\u001b[0;34m\u001b[0m\u001b[0m\n\u001b[0m\u001b[1;32m   3466\u001b[0m         \u001b[0mexclusive_fp\u001b[0m \u001b[0;34m=\u001b[0m \u001b[0;32mTrue\u001b[0m\u001b[0;34m\u001b[0m\u001b[0;34m\u001b[0m\u001b[0m\n\u001b[1;32m   3467\u001b[0m     \u001b[0;32melse\u001b[0m\u001b[0;34m:\u001b[0m\u001b[0;34m\u001b[0m\u001b[0;34m\u001b[0m\u001b[0m\n",
            "\u001b[0;31mFileNotFoundError\u001b[0m: [Errno 2] No such file or directory: '/content/m4.jpeg'"
          ]
        }
      ],
      "source": [
        "from PIL import Image\n",
        "img = Image.open('/content/m4.jpeg')\n",
        "\n",
        "t = transforms.Compose([\n",
        "    transforms.Resize((32, 32)),  # VGG 입력 크기 맞추기\n",
        "    transforms.ToTensor(),          # Tensor 변환\n",
        "    transforms.Normalize(mean=[0.4194, 0.4822, 0.4465], std=[0.2023, 0.1994, 0.2010])  # 정규화\n",
        "    # 입력 데이터를 정규화하는 과정\n",
        "    # 정규화 - 각 픽셀 값을 일정한 범위로 조정하는 과정. 보통 딥러닝 모델에서는 픽셀 값을 평균 0, 표준편차 1에 가깝게 정규화하면 학습이 더 잘된다\n",
        "    # 위 값들은 훈련 데이터셋(CIFAR-10)에서 R, G, B 채널별 평균과 표준편차를 미리 계산한 값이다 (전체 데이터셋에서 R, G, B 채널별 평균과 표준편차를 계산한 값)\n",
        "])\n",
        "\n",
        "img_tensor = t(img) # 변환 적용\n",
        "img_tensor = img_tensor.unsqueeze(0) # 배치 차원 추가 (1, 3, 224, 224)\n",
        "\n",
        "img_tensor = img_tensor.to(device)\n",
        "outputs = model(img_tensor)\n",
        "\n",
        "_, predicted = torch.max(outputs.data, 1)\n",
        "\n",
        "print(class_names[predicted])"
      ]
    },
    {
      "cell_type": "markdown",
      "metadata": {
        "id": "Tb-Zo5yOj9ac"
      },
      "source": [
        "## 2. ResNet with PyTorch"
      ]
    },
    {
      "cell_type": "markdown",
      "metadata": {
        "id": "GdUXnBp7J57-"
      },
      "source": []
    },
    {
      "cell_type": "markdown",
      "metadata": {
        "id": "MQeESvzij9ad"
      },
      "source": [
        "### Implementing ResNet\n",
        "\n",
        "> 1. **Dataset**\n",
        ">> - The same dataset used for VGGNet\n",
        ">\n",
        "> 2. **Network architecture**\n",
        ">> - 50-layer ResNet with **bottleneck blocks**. <br>\n",
        "     Note. The initial convolution layer (i.e., conv1) is different from the one in the paper &<br>\n",
        "     the initial max-pooling layer is removed (because the size of CIFAR-10 images is too small).\n",
        ">> - ReLU activation.\n",
        ">> - Strided convolution for down-sampling instead of max-pooling layer. <br>\n",
        "     Note. Once down-sampled, a $1\\times1$ convolution/stride 2 is applied to residual for expanding the channel of the residual.\n",
        ">> - No dropout for simplicity.\n",
        ">> - Batch-normalization after every convolution.\n",
        ">>\n",
        ">>\n",
        ">> <table><tr>\n",
        ">> <td> <img src=\"https://docs.google.com/uc?export=download&id=1ZYDfpVBFBvQnVezVcJqRxwh09rUVmxwD\" alt=\"no_image\" style=\"width: 500px;\"/> </td>\n",
        ">> <td> <img src=\"https://docs.google.com/uc?export=download&id=1JNEea1G-5yOKVLmSCkiYAEJ0HXOys0CR\" alt=\"no_image\" style=\"width: 300px;\"/> </td>\n",
        ">> </tr></table>\n",
        ">>\n",
        ">> <img src=\"https://docs.google.com/uc?export=download&id=1vY0ys5KAZmMlOKk8Dcv7eAV8pZ9cawzJ\" alt=\"no_image\" style=\"width: 870px;\"/>\n",
        ">>\n",
        ">> <font size=\"0.5\"> Figures from <br>\n",
        ">> [1] https://www.codeproject.com/Articles/1248963/Deep-Learning-using-Python-plus-Keras-Chapter-Re  <br>\n",
        ">> [2] Rezende et al., *Signal Processing: Image Communication*, 2018. </font>\n",
        ">\n",
        "> 3. **Loss function**\n",
        ">> - Cross-entropy loss between outputs & ground-truths. <br>\n",
        ">\n",
        "> 4. **Training**\n",
        ">> - Default weight initialization for simplicity.\n",
        ">> - SGD optimizer with `learning rate = 1e-2`, `momentum = 0.9`, and `weight_decay = 5e-4`.\n",
        ">> - 15 epochs without learning rate scheduling.\n",
        ">\n",
        "> 5. **Evaluation metric**\n",
        ">> - Classification accuracy (i.e., the percentage of correct predictions).\n",
        ">\n",
        ">"
      ]
    },
    {
      "cell_type": "markdown",
      "metadata": {
        "id": "MFlYgF2ZKFfe"
      },
      "source": [
        "### Implement ResNet50 and train it with the CIFAR 10 dataset"
      ]
    },
    {
      "cell_type": "code",
      "execution_count": 13,
      "metadata": {
        "colab": {
          "base_uri": "https://localhost:8080/"
        },
        "id": "_K17w3Z0KB8H",
        "outputId": "33b2285a-e544-4094-b580-5dfed0f6dbae"
      },
      "outputs": [
        {
          "name": "stdout",
          "output_type": "stream",
          "text": [
            "STEP 3: CREATE MODEL CLASS (ResNet-50)\n",
            "STEP 4: INSTANTIATE MODEL CLASS\n"
          ]
        },
        {
          "data": {
            "text/plain": [
              "ResNet(\n",
              "  (init_block): Sequential(\n",
              "    (0): Conv2d(3, 64, kernel_size=(3, 3), stride=(1, 1), padding=(1, 1))\n",
              "    (1): BatchNorm2d(64, eps=1e-05, momentum=0.1, affine=True, track_running_stats=True)\n",
              "    (2): ReLU(inplace=True)\n",
              "  )\n",
              "  (ResBlock1): Sequential(\n",
              "    (0): ResNet_block(\n",
              "      (conv1): Conv2d(64, 64, kernel_size=(1, 1), stride=(1, 1))\n",
              "      (bn1): BatchNorm2d(64, eps=1e-05, momentum=0.1, affine=True, track_running_stats=True)\n",
              "      (conv2): Conv2d(64, 64, kernel_size=(3, 3), stride=(1, 1), padding=(1, 1))\n",
              "      (bn2): BatchNorm2d(64, eps=1e-05, momentum=0.1, affine=True, track_running_stats=True)\n",
              "      (conv3): Conv2d(64, 256, kernel_size=(1, 1), stride=(1, 1))\n",
              "      (bn3): BatchNorm2d(256, eps=1e-05, momentum=0.1, affine=True, track_running_stats=True)\n",
              "      (shortcut): Sequential(\n",
              "        (0): Conv2d(64, 256, kernel_size=(1, 1), stride=(1, 1))\n",
              "        (1): BatchNorm2d(256, eps=1e-05, momentum=0.1, affine=True, track_running_stats=True)\n",
              "      )\n",
              "    )\n",
              "    (1): ResNet_block(\n",
              "      (conv1): Conv2d(256, 64, kernel_size=(1, 1), stride=(1, 1))\n",
              "      (bn1): BatchNorm2d(64, eps=1e-05, momentum=0.1, affine=True, track_running_stats=True)\n",
              "      (conv2): Conv2d(64, 64, kernel_size=(3, 3), stride=(1, 1), padding=(1, 1))\n",
              "      (bn2): BatchNorm2d(64, eps=1e-05, momentum=0.1, affine=True, track_running_stats=True)\n",
              "      (conv3): Conv2d(64, 256, kernel_size=(1, 1), stride=(1, 1))\n",
              "      (bn3): BatchNorm2d(256, eps=1e-05, momentum=0.1, affine=True, track_running_stats=True)\n",
              "      (shortcut): Sequential()\n",
              "    )\n",
              "    (2): ResNet_block(\n",
              "      (conv1): Conv2d(256, 64, kernel_size=(1, 1), stride=(1, 1))\n",
              "      (bn1): BatchNorm2d(64, eps=1e-05, momentum=0.1, affine=True, track_running_stats=True)\n",
              "      (conv2): Conv2d(64, 64, kernel_size=(3, 3), stride=(1, 1), padding=(1, 1))\n",
              "      (bn2): BatchNorm2d(64, eps=1e-05, momentum=0.1, affine=True, track_running_stats=True)\n",
              "      (conv3): Conv2d(64, 256, kernel_size=(1, 1), stride=(1, 1))\n",
              "      (bn3): BatchNorm2d(256, eps=1e-05, momentum=0.1, affine=True, track_running_stats=True)\n",
              "      (shortcut): Sequential()\n",
              "    )\n",
              "  )\n",
              "  (ResBlock2): Sequential(\n",
              "    (0): ResNet_block(\n",
              "      (conv1): Conv2d(256, 128, kernel_size=(1, 1), stride=(2, 2))\n",
              "      (bn1): BatchNorm2d(128, eps=1e-05, momentum=0.1, affine=True, track_running_stats=True)\n",
              "      (conv2): Conv2d(128, 128, kernel_size=(3, 3), stride=(1, 1), padding=(1, 1))\n",
              "      (bn2): BatchNorm2d(128, eps=1e-05, momentum=0.1, affine=True, track_running_stats=True)\n",
              "      (conv3): Conv2d(128, 512, kernel_size=(1, 1), stride=(1, 1))\n",
              "      (bn3): BatchNorm2d(512, eps=1e-05, momentum=0.1, affine=True, track_running_stats=True)\n",
              "      (shortcut): Sequential(\n",
              "        (0): Conv2d(256, 512, kernel_size=(1, 1), stride=(2, 2))\n",
              "        (1): BatchNorm2d(512, eps=1e-05, momentum=0.1, affine=True, track_running_stats=True)\n",
              "      )\n",
              "    )\n",
              "    (1): ResNet_block(\n",
              "      (conv1): Conv2d(512, 128, kernel_size=(1, 1), stride=(1, 1))\n",
              "      (bn1): BatchNorm2d(128, eps=1e-05, momentum=0.1, affine=True, track_running_stats=True)\n",
              "      (conv2): Conv2d(128, 128, kernel_size=(3, 3), stride=(1, 1), padding=(1, 1))\n",
              "      (bn2): BatchNorm2d(128, eps=1e-05, momentum=0.1, affine=True, track_running_stats=True)\n",
              "      (conv3): Conv2d(128, 512, kernel_size=(1, 1), stride=(1, 1))\n",
              "      (bn3): BatchNorm2d(512, eps=1e-05, momentum=0.1, affine=True, track_running_stats=True)\n",
              "      (shortcut): Sequential()\n",
              "    )\n",
              "    (2): ResNet_block(\n",
              "      (conv1): Conv2d(512, 128, kernel_size=(1, 1), stride=(1, 1))\n",
              "      (bn1): BatchNorm2d(128, eps=1e-05, momentum=0.1, affine=True, track_running_stats=True)\n",
              "      (conv2): Conv2d(128, 128, kernel_size=(3, 3), stride=(1, 1), padding=(1, 1))\n",
              "      (bn2): BatchNorm2d(128, eps=1e-05, momentum=0.1, affine=True, track_running_stats=True)\n",
              "      (conv3): Conv2d(128, 512, kernel_size=(1, 1), stride=(1, 1))\n",
              "      (bn3): BatchNorm2d(512, eps=1e-05, momentum=0.1, affine=True, track_running_stats=True)\n",
              "      (shortcut): Sequential()\n",
              "    )\n",
              "    (3): ResNet_block(\n",
              "      (conv1): Conv2d(512, 128, kernel_size=(1, 1), stride=(1, 1))\n",
              "      (bn1): BatchNorm2d(128, eps=1e-05, momentum=0.1, affine=True, track_running_stats=True)\n",
              "      (conv2): Conv2d(128, 128, kernel_size=(3, 3), stride=(1, 1), padding=(1, 1))\n",
              "      (bn2): BatchNorm2d(128, eps=1e-05, momentum=0.1, affine=True, track_running_stats=True)\n",
              "      (conv3): Conv2d(128, 512, kernel_size=(1, 1), stride=(1, 1))\n",
              "      (bn3): BatchNorm2d(512, eps=1e-05, momentum=0.1, affine=True, track_running_stats=True)\n",
              "      (shortcut): Sequential()\n",
              "    )\n",
              "  )\n",
              "  (ResBlock3): Sequential(\n",
              "    (0): ResNet_block(\n",
              "      (conv1): Conv2d(512, 256, kernel_size=(1, 1), stride=(2, 2))\n",
              "      (bn1): BatchNorm2d(256, eps=1e-05, momentum=0.1, affine=True, track_running_stats=True)\n",
              "      (conv2): Conv2d(256, 256, kernel_size=(3, 3), stride=(1, 1), padding=(1, 1))\n",
              "      (bn2): BatchNorm2d(256, eps=1e-05, momentum=0.1, affine=True, track_running_stats=True)\n",
              "      (conv3): Conv2d(256, 1024, kernel_size=(1, 1), stride=(1, 1))\n",
              "      (bn3): BatchNorm2d(1024, eps=1e-05, momentum=0.1, affine=True, track_running_stats=True)\n",
              "      (shortcut): Sequential(\n",
              "        (0): Conv2d(512, 1024, kernel_size=(1, 1), stride=(2, 2))\n",
              "        (1): BatchNorm2d(1024, eps=1e-05, momentum=0.1, affine=True, track_running_stats=True)\n",
              "      )\n",
              "    )\n",
              "    (1): ResNet_block(\n",
              "      (conv1): Conv2d(1024, 256, kernel_size=(1, 1), stride=(1, 1))\n",
              "      (bn1): BatchNorm2d(256, eps=1e-05, momentum=0.1, affine=True, track_running_stats=True)\n",
              "      (conv2): Conv2d(256, 256, kernel_size=(3, 3), stride=(1, 1), padding=(1, 1))\n",
              "      (bn2): BatchNorm2d(256, eps=1e-05, momentum=0.1, affine=True, track_running_stats=True)\n",
              "      (conv3): Conv2d(256, 1024, kernel_size=(1, 1), stride=(1, 1))\n",
              "      (bn3): BatchNorm2d(1024, eps=1e-05, momentum=0.1, affine=True, track_running_stats=True)\n",
              "      (shortcut): Sequential()\n",
              "    )\n",
              "    (2): ResNet_block(\n",
              "      (conv1): Conv2d(1024, 256, kernel_size=(1, 1), stride=(1, 1))\n",
              "      (bn1): BatchNorm2d(256, eps=1e-05, momentum=0.1, affine=True, track_running_stats=True)\n",
              "      (conv2): Conv2d(256, 256, kernel_size=(3, 3), stride=(1, 1), padding=(1, 1))\n",
              "      (bn2): BatchNorm2d(256, eps=1e-05, momentum=0.1, affine=True, track_running_stats=True)\n",
              "      (conv3): Conv2d(256, 1024, kernel_size=(1, 1), stride=(1, 1))\n",
              "      (bn3): BatchNorm2d(1024, eps=1e-05, momentum=0.1, affine=True, track_running_stats=True)\n",
              "      (shortcut): Sequential()\n",
              "    )\n",
              "    (3): ResNet_block(\n",
              "      (conv1): Conv2d(1024, 256, kernel_size=(1, 1), stride=(1, 1))\n",
              "      (bn1): BatchNorm2d(256, eps=1e-05, momentum=0.1, affine=True, track_running_stats=True)\n",
              "      (conv2): Conv2d(256, 256, kernel_size=(3, 3), stride=(1, 1), padding=(1, 1))\n",
              "      (bn2): BatchNorm2d(256, eps=1e-05, momentum=0.1, affine=True, track_running_stats=True)\n",
              "      (conv3): Conv2d(256, 1024, kernel_size=(1, 1), stride=(1, 1))\n",
              "      (bn3): BatchNorm2d(1024, eps=1e-05, momentum=0.1, affine=True, track_running_stats=True)\n",
              "      (shortcut): Sequential()\n",
              "    )\n",
              "    (4): ResNet_block(\n",
              "      (conv1): Conv2d(1024, 256, kernel_size=(1, 1), stride=(1, 1))\n",
              "      (bn1): BatchNorm2d(256, eps=1e-05, momentum=0.1, affine=True, track_running_stats=True)\n",
              "      (conv2): Conv2d(256, 256, kernel_size=(3, 3), stride=(1, 1), padding=(1, 1))\n",
              "      (bn2): BatchNorm2d(256, eps=1e-05, momentum=0.1, affine=True, track_running_stats=True)\n",
              "      (conv3): Conv2d(256, 1024, kernel_size=(1, 1), stride=(1, 1))\n",
              "      (bn3): BatchNorm2d(1024, eps=1e-05, momentum=0.1, affine=True, track_running_stats=True)\n",
              "      (shortcut): Sequential()\n",
              "    )\n",
              "    (5): ResNet_block(\n",
              "      (conv1): Conv2d(1024, 256, kernel_size=(1, 1), stride=(1, 1))\n",
              "      (bn1): BatchNorm2d(256, eps=1e-05, momentum=0.1, affine=True, track_running_stats=True)\n",
              "      (conv2): Conv2d(256, 256, kernel_size=(3, 3), stride=(1, 1), padding=(1, 1))\n",
              "      (bn2): BatchNorm2d(256, eps=1e-05, momentum=0.1, affine=True, track_running_stats=True)\n",
              "      (conv3): Conv2d(256, 1024, kernel_size=(1, 1), stride=(1, 1))\n",
              "      (bn3): BatchNorm2d(1024, eps=1e-05, momentum=0.1, affine=True, track_running_stats=True)\n",
              "      (shortcut): Sequential()\n",
              "    )\n",
              "  )\n",
              "  (ResBlock4): Sequential(\n",
              "    (0): ResNet_block(\n",
              "      (conv1): Conv2d(1024, 512, kernel_size=(1, 1), stride=(2, 2))\n",
              "      (bn1): BatchNorm2d(512, eps=1e-05, momentum=0.1, affine=True, track_running_stats=True)\n",
              "      (conv2): Conv2d(512, 512, kernel_size=(3, 3), stride=(1, 1), padding=(1, 1))\n",
              "      (bn2): BatchNorm2d(512, eps=1e-05, momentum=0.1, affine=True, track_running_stats=True)\n",
              "      (conv3): Conv2d(512, 2048, kernel_size=(1, 1), stride=(1, 1))\n",
              "      (bn3): BatchNorm2d(2048, eps=1e-05, momentum=0.1, affine=True, track_running_stats=True)\n",
              "      (shortcut): Sequential(\n",
              "        (0): Conv2d(1024, 2048, kernel_size=(1, 1), stride=(2, 2))\n",
              "        (1): BatchNorm2d(2048, eps=1e-05, momentum=0.1, affine=True, track_running_stats=True)\n",
              "      )\n",
              "    )\n",
              "    (1): ResNet_block(\n",
              "      (conv1): Conv2d(2048, 512, kernel_size=(1, 1), stride=(1, 1))\n",
              "      (bn1): BatchNorm2d(512, eps=1e-05, momentum=0.1, affine=True, track_running_stats=True)\n",
              "      (conv2): Conv2d(512, 512, kernel_size=(3, 3), stride=(1, 1), padding=(1, 1))\n",
              "      (bn2): BatchNorm2d(512, eps=1e-05, momentum=0.1, affine=True, track_running_stats=True)\n",
              "      (conv3): Conv2d(512, 2048, kernel_size=(1, 1), stride=(1, 1))\n",
              "      (bn3): BatchNorm2d(2048, eps=1e-05, momentum=0.1, affine=True, track_running_stats=True)\n",
              "      (shortcut): Sequential()\n",
              "    )\n",
              "    (2): ResNet_block(\n",
              "      (conv1): Conv2d(2048, 512, kernel_size=(1, 1), stride=(1, 1))\n",
              "      (bn1): BatchNorm2d(512, eps=1e-05, momentum=0.1, affine=True, track_running_stats=True)\n",
              "      (conv2): Conv2d(512, 512, kernel_size=(3, 3), stride=(1, 1), padding=(1, 1))\n",
              "      (bn2): BatchNorm2d(512, eps=1e-05, momentum=0.1, affine=True, track_running_stats=True)\n",
              "      (conv3): Conv2d(512, 2048, kernel_size=(1, 1), stride=(1, 1))\n",
              "      (bn3): BatchNorm2d(2048, eps=1e-05, momentum=0.1, affine=True, track_running_stats=True)\n",
              "      (shortcut): Sequential()\n",
              "    )\n",
              "  )\n",
              "  (avgpool): AdaptiveAvgPool2d(output_size=(1, 1))\n",
              "  (classifier): Linear(in_features=2048, out_features=10, bias=True)\n",
              ")"
            ]
          },
          "execution_count": 13,
          "metadata": {},
          "output_type": "execute_result"
        }
      ],
      "source": [
        "print(\"STEP 3: CREATE MODEL CLASS (ResNet-50)\")\n",
        "cfg = [3, 4, 6, 3]\n",
        "\n",
        "class ResNet_block(nn.Module):\n",
        "  def __init__(self, in_c, intra_c, out_c, down_sample=False):\n",
        "    super(ResNet_block, self).__init__()\n",
        "\n",
        "    if down_sample:\n",
        "      stride=2\n",
        "    else:\n",
        "      stride=1\n",
        "\n",
        "    self.conv1 = nn.Conv2d(in_channels=in_c, out_channels=intra_c, kernel_size=1, stride=stride, padding=0)\n",
        "    self.bn1 = nn.BatchNorm2d(intra_c)\n",
        "\n",
        "    self.conv2 = nn.Conv2d(in_channels=intra_c, out_channels=intra_c, kernel_size=3, stride=1, padding=1)\n",
        "    self.bn2 = nn.BatchNorm2d(intra_c)\n",
        "\n",
        "    self.conv3 = nn.Conv2d(in_channels=intra_c, out_channels=out_c, kernel_size=1, stride=1, padding=0)\n",
        "    self.bn3 = nn.BatchNorm2d(out_c)\n",
        "\n",
        "    self.shortcut = nn.Sequential()\n",
        "    if in_c != out_c or stride != 1:\n",
        "      self.shortcut = nn.Sequential(\n",
        "          nn.Conv2d(in_channels=in_c, out_channels=out_c, kernel_size=1, stride=stride, padding=0),\n",
        "          nn.BatchNorm2d(out_c)\n",
        "      )\n",
        "\n",
        "  def forward(self, x):\n",
        "    identity=x\n",
        "    out=self.conv1(x)\n",
        "    out=self.bn1(out)\n",
        "    out=F.relu(out)\n",
        "\n",
        "    out=self.conv2(out)\n",
        "    out=self.bn2(out)\n",
        "    out=F.relu(out)\n",
        "\n",
        "    out=self.conv3(out)\n",
        "    out=self.bn3(out)\n",
        "\n",
        "    identity=self.shortcut(identity)\n",
        "    out= F.relu(out+identity)\n",
        "    return out\n",
        "\n",
        "class ResNet(nn.Module):\n",
        "  def __init__(self, num_classes=10):\n",
        "    super(ResNet, self).__init__()\n",
        "    self.init_block = nn.Sequential(\n",
        "        nn.Conv2d(3, 64, 3, 1, 1),\n",
        "        nn.BatchNorm2d(64),\n",
        "        nn.ReLU(inplace=True)\n",
        "    )\n",
        "\n",
        "    self.ResBlock1 = self._make_layers(in_c=64, intra_c=64, out_c=256, num_block=cfg[0], down_sample=False)\n",
        "    self.ResBlock2 = self._make_layers(in_c=256, intra_c=128, out_c=512, num_block=cfg[1], down_sample=True)\n",
        "    self.ResBlock3 = self._make_layers(in_c=512, intra_c=256, out_c=1024, num_block=cfg[2], down_sample=True)\n",
        "    self.ResBlock4 = self._make_layers(in_c=1024, intra_c=512, out_c=2048, num_block=cfg[3], down_sample=True)\n",
        "    self.avgpool = nn.AdaptiveAvgPool2d((1,1))\n",
        "    self.classifier = nn.Linear(2048, num_classes)\n",
        "\n",
        "  def forward(self, x):\n",
        "    out = self.init_block(x)\n",
        "    out = self.ResBlock1(out)\n",
        "    out = self.ResBlock2(out)\n",
        "    out = self.ResBlock3(out)\n",
        "    out = self.ResBlock4(out)\n",
        "    out = self.avgpool(out)\n",
        "    out = out.view(out.size(0), -1)\n",
        "    out = self.classifier(out)\n",
        "    return out\n",
        "\n",
        "  def _make_layers(self, in_c, intra_c, out_c, num_block, down_sample):\n",
        "    layers = []\n",
        "    # first block\n",
        "    layers.append(ResNet_block(in_c=in_c, intra_c=intra_c, out_c=out_c, down_sample=down_sample))\n",
        "    # intermediate blocks\n",
        "    for _ in range(num_block-1):\n",
        "      layers.append(ResNet_block(in_c=out_c, intra_c=intra_c, out_c=out_c, down_sample=False))\n",
        "\n",
        "    return nn.Sequential(*layers)\n",
        "\n",
        "print('STEP 4: INSTANTIATE MODEL CLASS')\n",
        "model = ResNet()\n",
        "device = torch.device(\"cuda:0\" if torch.cuda.is_available() else \"cpu\")\n",
        "model.to(device)"
      ]
    },
    {
      "cell_type": "code",
      "execution_count": 14,
      "metadata": {
        "colab": {
          "base_uri": "https://localhost:8080/"
        },
        "id": "JB0aJVL3Musp",
        "outputId": "52452b5f-df0a-4abd-a9ca-bb256bf1aaa0"
      },
      "outputs": [
        {
          "name": "stdout",
          "output_type": "stream",
          "text": [
            "STEP 5: INSTANTIATE LOSS CLASS\n",
            "STEP 6: INSTANTIATE OPTIMIZER CLASS\n",
            "STEP 7: TRAIN THE MODEL\n",
            "Epochs: 0. Loss: 0.6492182612419128. Accuracy: 71.66666666666667, Elapsed time: 49.74346137046814 sec\n",
            "Epochs: 1. Loss: 0.8275130391120911. Accuracy: 76.56666666666666, Elapsed time: 48.13759636878967 sec\n",
            "Epochs: 2. Loss: 0.3531716763973236. Accuracy: 80.1, Elapsed time: 48.7548553943634 sec\n",
            "Epochs: 3. Loss: 0.521026611328125. Accuracy: 81.43333333333334, Elapsed time: 48.48884105682373 sec\n",
            "Epochs: 4. Loss: 0.27250200510025024. Accuracy: 82.13333333333334, Elapsed time: 48.66456484794617 sec\n",
            "Epochs: 5. Loss: 0.8171334862709045. Accuracy: 81.9, Elapsed time: 48.59889531135559 sec\n",
            "Epochs: 6. Loss: 0.4261429011821747. Accuracy: 82.6, Elapsed time: 48.718549966812134 sec\n",
            "Epochs: 7. Loss: 0.46613264083862305. Accuracy: 83.16666666666667, Elapsed time: 48.557640075683594 sec\n",
            "Epochs: 8. Loss: 0.37935948371887207. Accuracy: 81.1, Elapsed time: 48.783058881759644 sec\n",
            "Epochs: 9. Loss: 0.26849564909935. Accuracy: 85.03333333333333, Elapsed time: 48.63742256164551 sec\n",
            "Epochs: 10. Loss: 0.38162386417388916. Accuracy: 82.26666666666667, Elapsed time: 48.711381673812866 sec\n",
            "Epochs: 11. Loss: 0.2513750195503235. Accuracy: 81.8, Elapsed time: 48.69909191131592 sec\n",
            "Epochs: 12. Loss: 0.06939416378736496. Accuracy: 85.13333333333334, Elapsed time: 48.70232844352722 sec\n",
            "Epochs: 13. Loss: 0.07596468180418015. Accuracy: 82.1, Elapsed time: 48.74427270889282 sec\n",
            "Epochs: 14. Loss: 0.24344933032989502. Accuracy: 84.73333333333333, Elapsed time: 48.64358448982239 sec\n"
          ]
        }
      ],
      "source": [
        "print('STEP 5: INSTANTIATE LOSS CLASS')\n",
        "criterion = nn.CrossEntropyLoss()\n",
        "\n",
        "print('STEP 6: INSTANTIATE OPTIMIZER CLASS')\n",
        "learning_rate = 1e-2\n",
        "momentum = 0.9\n",
        "weight_decay = 5e-4\n",
        "\n",
        "optimizer = torch.optim.SGD(model.parameters(), lr=learning_rate, momentum=momentum, weight_decay=weight_decay)\n",
        "\n",
        "print('STEP 7: TRAIN THE MODEL')\n",
        "num_epochs = 15\n",
        "\n",
        "for epoch in range(num_epochs):\n",
        "  start_time = time.time()\n",
        "  for i, (images, labels) in enumerate(train_loader):\n",
        "    images = images.to(device)\n",
        "    labels = labels.to(device)\n",
        "    optimizer.zero_grad()\n",
        "    outputs = model(images)\n",
        "    loss = criterion(outputs, labels)\n",
        "    loss.backward()\n",
        "    optimizer.step()\n",
        "  correct = 0\n",
        "  total = 0\n",
        "  for images, labels in test_loader:\n",
        "    images = images.to(device)\n",
        "    labels = labels.to(device)\n",
        "    outputs = model(images)\n",
        "    _, predicted = torch.max(outputs.data, 1)\n",
        "    total += labels.size(0)\n",
        "    correct += (predicted == labels).sum()\n",
        "  end_time = time.time()\n",
        "  accuracy = 100 * correct.item() / total\n",
        "  elapsed_time = end_time - start_time\n",
        "  print('Epochs: {}. Loss: {}. Accuracy: {}, Elapsed time: {} sec'.format(epoch, loss.item(), accuracy, elapsed_time))"
      ]
    }
  ],
  "metadata": {
    "accelerator": "GPU",
    "colab": {
      "gpuType": "T4",
      "provenance": []
    },
    "kernelspec": {
      "display_name": "Python 3",
      "name": "python3"
    },
    "language_info": {
      "name": "python"
    }
  },
  "nbformat": 4,
  "nbformat_minor": 0
}
